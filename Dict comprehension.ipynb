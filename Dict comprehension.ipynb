{
 "cells": [
  {
   "cell_type": "markdown",
   "id": "1aaf98cc",
   "metadata": {},
   "source": [
    "\n",
    "1.Write a Python program to create a dictionary of squares of numbers from 1 to 10 using dictionary comprehension."
   ]
  },
  {
   "cell_type": "code",
   "execution_count": 1,
   "id": "e7b503d6",
   "metadata": {},
   "outputs": [
    {
     "data": {
      "text/plain": [
       "{1: 1, 2: 4, 3: 9, 4: 16, 5: 25, 6: 36, 7: 49, 8: 64, 9: 81, 10: 100}"
      ]
     },
     "execution_count": 1,
     "metadata": {},
     "output_type": "execute_result"
    }
   ],
   "source": [
    "{num: num**2 for num in range(1, 11)}\n"
   ]
  },
  {
   "cell_type": "markdown",
   "id": "15deb1b8",
   "metadata": {},
   "source": [
    "2.Write a Python program to create a dictionary of even numbers from 1 to 20 using dictionary comprehension."
   ]
  },
  {
   "cell_type": "code",
   "execution_count": 2,
   "id": "c21bff13",
   "metadata": {},
   "outputs": [
    {
     "name": "stdout",
     "output_type": "stream",
     "text": [
      "{2, 4, 6, 8, 10, 12, 14, 16, 18, 20}\n"
     ]
    }
   ],
   "source": [
    "evens_dict = {num for num in range(1, 21) if num%2==0}\n",
    "print(evens_dict)"
   ]
  },
  {
   "cell_type": "markdown",
   "id": "a143f855",
   "metadata": {},
   "source": [
    "3.Write a Python program to create a dictionary of odd numbers from 1 to 20 using dictionary comprehension."
   ]
  },
  {
   "cell_type": "code",
   "execution_count": 3,
   "id": "9fea2642",
   "metadata": {},
   "outputs": [
    {
     "name": "stdout",
     "output_type": "stream",
     "text": [
      "{1, 3, 5, 7, 9, 11, 13, 15, 17, 19}\n"
     ]
    }
   ],
   "source": [
    "odds_dict = {num for num in range(1, 21) if num%2!=0}\n",
    "print(odds_dict)"
   ]
  },
  {
   "cell_type": "markdown",
   "id": "8255a161",
   "metadata": {},
   "source": [
    "4.Write a Python program to create a dictionary of cubes of even numbers from 1 to 10 using dictionary comprehension."
   ]
  },
  {
   "cell_type": "code",
   "execution_count": 5,
   "id": "23b651c2",
   "metadata": {},
   "outputs": [
    {
     "data": {
      "text/plain": [
       "{2: 8, 4: 64, 6: 216, 8: 512}"
      ]
     },
     "execution_count": 5,
     "metadata": {},
     "output_type": "execute_result"
    }
   ],
   "source": [
    "{i:i**3 for i in range(1, 10) if i%2==0}"
   ]
  },
  {
   "cell_type": "markdown",
   "id": "85730907",
   "metadata": {},
   "source": [
    "5.Write a Python program to create a dictionary of squares of odd numbers from 1 to 15 using dictionary comprehension."
   ]
  },
  {
   "cell_type": "code",
   "execution_count": 6,
   "id": "797a80be",
   "metadata": {},
   "outputs": [
    {
     "data": {
      "text/plain": [
       "{1: 1, 3: 9, 5: 25, 7: 49, 9: 81, 11: 121, 13: 169, 15: 225}"
      ]
     },
     "execution_count": 6,
     "metadata": {},
     "output_type": "execute_result"
    }
   ],
   "source": [
    "cubes = {i:i**2 for i in range(1, 16) if i%2!=0}\n",
    "(cubes)"
   ]
  },
  {
   "cell_type": "markdown",
   "id": "d9a5efdb",
   "metadata": {},
   "source": [
    "6.Write a Python program to create a dictionary of the first 10 prime numbers and their squares using dictionary comprehension."
   ]
  },
  {
   "cell_type": "code",
   "execution_count": 8,
   "id": "06fff3f9",
   "metadata": {
    "scrolled": true
   },
   "outputs": [
    {
     "name": "stdout",
     "output_type": "stream",
     "text": [
      "{2: 4, 3: 9, 5: 25, 7: 49, 11: 121, 13: 169, 17: 289, 19: 361, 23: 529, 29: 841}\n"
     ]
    }
   ],
   "source": [
    "prime = {i: i**2 for i in range(2, 30) if all(i%j!=0 for j in range(2, i))}\n",
    "print(prime)"
   ]
  },
  {
   "cell_type": "markdown",
   "id": "50455376",
   "metadata": {},
   "source": [
    "7.Write a Python program to create a dictionary of all the lowercase letters of the alphabet and their ASCII codes using dictionary comprehension."
   ]
  },
  {
   "cell_type": "code",
   "execution_count": 9,
   "id": "0dafb5a8",
   "metadata": {},
   "outputs": [
    {
     "name": "stdout",
     "output_type": "stream",
     "text": [
      "{'a': 97, 'b': 98, 'c': 99, 'd': 100, 'e': 101, 'f': 102, 'g': 103, 'h': 104, 'i': 105, 'j': 106, 'k': 107, 'l': 108, 'm': 109, 'n': 110, 'o': 111, 'p': 112, 'q': 113, 'r': 114, 's': 115, 't': 116, 'u': 117, 'v': 118, 'w': 119, 'x': 120, 'y': 121, 'z': 122}\n"
     ]
    }
   ],
   "source": [
    "ascii_dict = {chr(ele):ele for ele in range(97, 123)}\n",
    "print(ascii_dict)"
   ]
  },
  {
   "cell_type": "markdown",
   "id": "b71c3221",
   "metadata": {},
   "source": [
    "8.Write a Python program to create a dictionary of all the uppercase letters of the alphabet and their ASCII codes using dictionary comprehension."
   ]
  },
  {
   "cell_type": "code",
   "execution_count": 10,
   "id": "c0434713",
   "metadata": {},
   "outputs": [
    {
     "name": "stdout",
     "output_type": "stream",
     "text": [
      "{'A': 65, 'B': 66, 'C': 67, 'D': 68, 'E': 69, 'F': 70, 'G': 71, 'H': 72, 'I': 73, 'J': 74, 'K': 75, 'L': 76, 'M': 77, 'N': 78, 'O': 79, 'P': 80, 'Q': 81, 'R': 82, 'S': 83, 'T': 84, 'U': 85, 'V': 86, 'W': 87, 'X': 88, 'Y': 89, 'Z': 90}\n"
     ]
    }
   ],
   "source": [
    "ascii_dict = {chr(ele):ele for ele in range(65, 91)}\n",
    "print(ascii_dict)"
   ]
  },
  {
   "cell_type": "markdown",
   "id": "b0a8218d",
   "metadata": {},
   "source": [
    "9.Write a Python program to create a dictionary of all the words in a given sentence and their lengths using dictionary comprehension."
   ]
  },
  {
   "cell_type": "code",
   "execution_count": 19,
   "id": "05baa7af",
   "metadata": {},
   "outputs": [
    {
     "name": "stdout",
     "output_type": "stream",
     "text": [
      "{'Python': 6, 'pandas': 6, 'seaborn': 7, 'are': 3, 'python': 6, 'libraries': 9}\n"
     ]
    }
   ],
   "source": [
    "sentence = 'Python pandas seaborn are python libraries'\n",
    "s = sentence.split()\n",
    "# print(s)\n",
    "\n",
    "length = {item : len(item) for item in s }\n",
    "print(length)"
   ]
  },
  {
   "cell_type": "markdown",
   "id": "c597729d",
   "metadata": {},
   "source": [
    "11.Write a Python program to create a dictionary of all the even numbers in a given list and their squares using dictionary comprehension."
   ]
  },
  {
   "cell_type": "code",
   "execution_count": 14,
   "id": "2ecb29a2",
   "metadata": {},
   "outputs": [
    {
     "name": "stdout",
     "output_type": "stream",
     "text": [
      "{2: 4, 4: 16, 6: 36, 8: 64, 10: 100}\n"
     ]
    }
   ],
   "source": [
    "list_a = [1, 2, 3, 4, 5, 6, 7, 8, 9, 10]\n",
    "\n",
    "new_dict = {}\n",
    "\n",
    "new_dict = {i:i**2 for i in list_a if i%2==0}\n",
    "print(new_dict)"
   ]
  },
  {
   "cell_type": "markdown",
   "id": "23b6c2b9",
   "metadata": {},
   "source": [
    "12.Write a Python program to create a dictionary of all the odd numbers in a given list and their cubes using dictionary comprehension."
   ]
  },
  {
   "cell_type": "code",
   "execution_count": 20,
   "id": "868efb34",
   "metadata": {},
   "outputs": [
    {
     "name": "stdout",
     "output_type": "stream",
     "text": [
      "{1: 1, 3: 27, 5: 125, 7: 343, 9: 729}\n"
     ]
    }
   ],
   "source": [
    "list_a = [i for i in range(10)]\n",
    "\n",
    "new_dict = {}\n",
    "\n",
    "new_dict = {i:i**3 for i in list_a if i%2==1}\n",
    "print(new_dict)"
   ]
  },
  {
   "cell_type": "markdown",
   "id": "def84d9a",
   "metadata": {},
   "source": [
    "13.Write a Python program to create a dictionary of all the elements of two lists that are common and their frequencies using dictionary comprehension."
   ]
  },
  {
   "cell_type": "code",
   "execution_count": 2,
   "id": "87c3264c",
   "metadata": {},
   "outputs": [
    {
     "name": "stdout",
     "output_type": "stream",
     "text": [
      "{2: 3, 3: 3, 5: 3, 6: 2, 10: 2}\n"
     ]
    }
   ],
   "source": [
    "list_a = [1, 2, 3, 4, 5, 6, 7, 8, 9, 10, 1, 2, 3, 4, 5]\n",
    "list_b = [10, 6, 5, 3, 2, 12, 87, 33, 14]\n",
    "\n",
    "common_eles = {i:(list_a+list_b).count(i) for i in (list_a+list_b) if (i in list_a) and (i in list_b)}\n",
    "print(common_eles)"
   ]
  },
  {
   "cell_type": "markdown",
   "id": "7d0c1c8a",
   "metadata": {},
   "source": [
    "14.Write a Python program to create a dictionary of all the elements of two lists that are not common and their frequencies using dictionary comprehension."
   ]
  },
  {
   "cell_type": "code",
   "execution_count": 3,
   "id": "9f5853e5",
   "metadata": {},
   "outputs": [
    {
     "name": "stdout",
     "output_type": "stream",
     "text": [
      "{1: 1, 4: 1, 7: 1, 8: 1, 9: 1, 12: 1, 87: 1, 33: 1, 14: 1}\n"
     ]
    }
   ],
   "source": [
    "list_a = [1, 2, 3, 4, 5, 6, 7, 8, 9, 10]\n",
    "list_b = [10, 6, 5, 3, 2, 12, 87, 33, 14]\n",
    "\n",
    "common_eles = {i:(list_a+list_b).count(i) for i in (list_a+list_b) if not((i in list_a) and (i in list_b))}\n",
    "print(common_eles)"
   ]
  },
  {
   "cell_type": "markdown",
   "id": "47209a8e",
   "metadata": {},
   "source": [
    "15.Write a Python program to create a dictionary of all the keys of a given dictionary and their values using dictionary comprehension."
   ]
  },
  {
   "cell_type": "code",
   "execution_count": 23,
   "id": "b8317d0b",
   "metadata": {},
   "outputs": [
    {
     "data": {
      "text/plain": [
       "{'name': 'john', 'gender': 'male', 'Company': 'Deloitee', 'age': 25}"
      ]
     },
     "execution_count": 23,
     "metadata": {},
     "output_type": "execute_result"
    }
   ],
   "source": [
    "dict_a = {\n",
    "    'name':'john',\n",
    "    'gender':'male',\n",
    "    'Company':'Deloitee',\n",
    "    'age':25\n",
    "}\n",
    "\n",
    "res = {i:j for i,j in dict_a.items()}\n",
    "res"
   ]
  },
  {
   "cell_type": "markdown",
   "id": "67c7c01e",
   "metadata": {},
   "source": [
    "16.Write a Python program to create a dictionary of all the values of a given dictionary and their keys using dictionary comprehension."
   ]
  },
  {
   "cell_type": "code",
   "execution_count": 25,
   "id": "8f17ac31",
   "metadata": {},
   "outputs": [
    {
     "name": "stdout",
     "output_type": "stream",
     "text": [
      "{'john': 'name', 'male': 'gender', 'Deloite': 'Company', 25: 'age'}\n"
     ]
    }
   ],
   "source": [
    "dict_a = {\n",
    "    'name':'john',\n",
    "    'gender':'male',\n",
    "    'Company':'Deloite',\n",
    "    'age':25\n",
    "}\n",
    "\n",
    "res = {j:i for i,j in dict_a.items()}\n",
    "print(res)"
   ]
  },
  {
   "cell_type": "markdown",
   "id": "2daa3ab1",
   "metadata": {},
   "source": [
    "17.Write a Python program to create a dictionary of all the keys of a given dictionary that have even length and their values using dictionary comprehension."
   ]
  },
  {
   "cell_type": "code",
   "execution_count": 26,
   "id": "2b8e1c7f",
   "metadata": {},
   "outputs": [
    {
     "name": "stdout",
     "output_type": "stream",
     "text": [
      "{'name': 'Wick', 'gender': 'Female', 'city': 'Pune'}\n"
     ]
    }
   ],
   "source": [
    "dict_a = {\n",
    "    'name':'Wick',\n",
    "    'gender':'Female',\n",
    "    'Company':'Futurense',\n",
    "    'age':21,\n",
    "    'city':'Pune',\n",
    "    'State':'MH'\n",
    "}\n",
    "\n",
    "res = {i:j for i,j in dict_a.items() if len(i)%2==0}\n",
    "print(res)"
   ]
  },
  {
   "cell_type": "markdown",
   "id": "a1d7e1ac",
   "metadata": {},
   "source": [
    "18.Write a Python program to create a dictionary of all the keys of a given dictionary that have odd length and their values using dictionary comprehension."
   ]
  },
  {
   "cell_type": "code",
   "execution_count": 27,
   "id": "5ecbf3d2",
   "metadata": {},
   "outputs": [
    {
     "name": "stdout",
     "output_type": "stream",
     "text": [
      "{'Company': 'Futurense', 'age': 21, 'State': 'MH'}\n"
     ]
    }
   ],
   "source": [
    "dict_a = {\n",
    "    'name':'carter',\n",
    "    'gender':'male',\n",
    "    'Company':'Futurense',\n",
    "    'age':21,\n",
    "    'city':'Pune',\n",
    "    'State':'MH'\n",
    "}\n",
    "\n",
    "res = {i:j for i,j in dict_a.items() if len(i)%2!=0}\n",
    "print(res)"
   ]
  },
  {
   "cell_type": "markdown",
   "id": "4bafc34b",
   "metadata": {},
   "source": [
    "19.Write a Python program to create a dictionary of all the elements in a given list and their lengths using dictionary comprehension."
   ]
  },
  {
   "cell_type": "code",
   "execution_count": 29,
   "id": "d83a39c2",
   "metadata": {},
   "outputs": [
    {
     "name": "stdout",
     "output_type": "stream",
     "text": [
      "{'today': 5, 'is': 2, 'wednesday': 9, 'and': 3, 'tenth': 5, 'march': 5}\n"
     ]
    }
   ],
   "source": [
    "list_a = ['today', 'is', 'wednesday' , 'and' , 'tenth' , 'march']\n",
    "res = {i : len(i) for i in list_a }\n",
    "print(res)"
   ]
  },
  {
   "cell_type": "markdown",
   "id": "c1ab6c3d",
   "metadata": {},
   "source": [
    "20.Write a Python program to create a dictionary of all the elements in a given list and their frequencies using dictionary comprehension."
   ]
  },
  {
   "cell_type": "code",
   "execution_count": 9,
   "id": "c0db8cba",
   "metadata": {},
   "outputs": [
    {
     "name": "stdout",
     "output_type": "stream",
     "text": [
      "{1: 2, 2: 3, 3: 3, 4: 2, 5: 3, 6: 2, 7: 1, 8: 1, 9: 1, 10: 2, 12: 1, 87: 1, 33: 1, 14: 1}\n"
     ]
    }
   ],
   "source": [
    "list_a = [1, 2, 3, 4, 5, 6, 7, 8, 9, 10, 1, 2, 3, 4, 5, 10, 6, 5, 3, 2, 12, 87, 33, 14]\n",
    "\n",
    "common_eles = {i:(list_a).count(i) for i in (list_a) if (i in list_a)}\n",
    "print(common_eles)"
   ]
  },
  {
   "cell_type": "markdown",
   "id": "5b171c73",
   "metadata": {},
   "source": [
    "21.Write a Python program to create a dictionary of all the words in a given sentence that start with a vowel and their lengths using dictionary comprehension."
   ]
  },
  {
   "cell_type": "code",
   "execution_count": 10,
   "id": "ff843b99",
   "metadata": {},
   "outputs": [
    {
     "name": "stdout",
     "output_type": "stream",
     "text": [
      "{'amazing': 7, 'outstanding': 11, 'everlasting': 11}\n"
     ]
    }
   ],
   "source": [
    "sentence = 'Python dictionary comprehension prctice problems amazing outstanding everlasting'\n",
    "s = sentence.split()\n",
    "s = [i.lower() for i in s]\n",
    "# print(s) ['python', 'dictionary', 'comprehension', 'prctice', 'problems', 'amazing', 'outstanding', 'everlasting']\n",
    "\n",
    "vowels = ['a', 'e', 'i', 'o', 'u']\n",
    "\n",
    "res = {i:len(i) for i in s if i[0] in vowels}\n",
    "print(res)"
   ]
  },
  {
   "cell_type": "markdown",
   "id": "a5f286c7",
   "metadata": {},
   "source": [
    "22.Write a Python program to create a dictionary of all the words in a given sentence that end with a vowel and their lengths using dictionary comprehension."
   ]
  },
  {
   "cell_type": "code",
   "execution_count": 11,
   "id": "8611bee6",
   "metadata": {},
   "outputs": [
    {
     "name": "stdout",
     "output_type": "stream",
     "text": [
      "{'prctice': 7}\n"
     ]
    }
   ],
   "source": [
    "sentence = 'Python dictionary comprehension prctice problems amazing outstanding everlasting'\n",
    "s = sentence.split()\n",
    "s = [i.lower() for i in s]\n",
    "# print(s) ['python', 'dictionary', 'comprehension', 'prctice', 'problems', 'amazing', 'outstanding', 'everlasting']\n",
    "\n",
    "vowels = ['a', 'e', 'i', 'o', 'u']\n",
    "\n",
    "res = {i:len(i) for i in s if i[-1] in vowels}\n",
    "print(res)"
   ]
  },
  {
   "cell_type": "markdown",
   "id": "8a6025a8",
   "metadata": {},
   "source": [
    "23.Write a Python program to create a dictionary of all the uppercase letters in a given string and their frequencies using dictionary comprehension."
   ]
  },
  {
   "cell_type": "code",
   "execution_count": 14,
   "id": "f8d400d7",
   "metadata": {},
   "outputs": [
    {
     "name": "stdout",
     "output_type": "stream",
     "text": [
      "{'P': 3, 'N': 3, 'G': 3}\n"
     ]
    },
    {
     "data": {
      "text/plain": [
       "{3}"
      ]
     },
     "execution_count": 14,
     "metadata": {},
     "output_type": "execute_result"
    }
   ],
   "source": [
    "sentence = 'Python dictioNary compreheNsion Practice Problems amaziNG outstandinG everlastinG'\n",
    "sentence = sentence.replace(\" \", \"\")\n",
    "y = list(sentence)\n",
    "# print(y)\n",
    "\n",
    "new_dict = {}\n",
    "\n",
    "for i in y:\n",
    "    if i == i.upper():\n",
    "        if i in new_dict:\n",
    "            new_dict[i] += 1\n",
    "        else:\n",
    "            new_dict[i] = 1\n",
    "    else:\n",
    "        continue\n",
    "print(new_dict)\n",
    "\n",
    "\n",
    "{new_dict[i] for i in y if i==i.upper() if i in new_dict}"
   ]
  },
  {
   "cell_type": "code",
   "execution_count": 15,
   "id": "6c7a3f0b",
   "metadata": {},
   "outputs": [
    {
     "name": "stdout",
     "output_type": "stream",
     "text": [
      "{'P': 3, 'N': 5, 'C': 1, 'A': 1, 'G': 3, 'O': 1, 'E': 1, 'V': 1}\n"
     ]
    }
   ],
   "source": [
    "sentence = 'PythoN dictioNary CompreheNsioN Practice Problems AmaZiNG OutstandinG EVerlastinG'\n",
    "\n",
    "d={i:sentence.count(i) for i in sentence if 'A'<=i<'Z'} \n",
    "print(d)"
   ]
  },
  {
   "cell_type": "markdown",
   "id": "98dc9fd4",
   "metadata": {},
   "source": [
    "24.Write a Python program to create a dictionary of all the lowercase letters in a given string and their frequencies using dictionary comprehension."
   ]
  },
  {
   "cell_type": "code",
   "execution_count": 16,
   "id": "32a0901d",
   "metadata": {},
   "outputs": [
    {
     "name": "stdout",
     "output_type": "stream",
     "text": [
      "{'y': 2, 't': 6, 'h': 2, 'o': 5, 'd': 2, 'i': 7, 'c': 3, 'a': 5, 'r': 5, 'm': 3, 'p': 1, 'e': 5, 's': 4, 'b': 1, 'l': 2, 'u': 1, 'n': 3}\n"
     ]
    }
   ],
   "source": [
    "sentence = 'PythoN dictioNary CompreheNsioN Practice Problems AmaZiNG OutstandinG EVerlastinG'\n",
    "sentence = sentence.replace(\" \", \"\")\n",
    "y = list(sentence)\n",
    "# print(y)\n",
    "\n",
    "new_dict = {}\n",
    "\n",
    "for i in y:\n",
    "    if i == i.lower():\n",
    "        if i in new_dict:\n",
    "            new_dict[i] += 1\n",
    "        else:\n",
    "            new_dict[i] = 1\n",
    "    else:\n",
    "        continue\n",
    "print(new_dict)"
   ]
  },
  {
   "cell_type": "code",
   "execution_count": 17,
   "id": "c29d05c9",
   "metadata": {},
   "outputs": [
    {
     "name": "stdout",
     "output_type": "stream",
     "text": [
      "{'y': 2, 't': 6, 'h': 2, 'o': 5, 'd': 2, 'i': 7, 'c': 3, 'a': 5, 'r': 5, 'm': 3, 'p': 1, 'e': 5, 's': 4, 'b': 1, 'l': 2, 'u': 1, 'n': 3}\n"
     ]
    }
   ],
   "source": [
    "sentence = 'PythoN dictioNary CompreheNsioN Practice Problems AmaZiNG OutstandinG EVerlastinG'\n",
    "\n",
    "d={i:sentence.count(i) for i in sentence if 'a'<=i<'z'} \n",
    "print(d)"
   ]
  },
  {
   "cell_type": "markdown",
   "id": "8981d376",
   "metadata": {},
   "source": [
    "25.Write a Python program to create a dictionary of all the elements of a given list and their squares using dictionary comprehension, but only if the element is greater than 5."
   ]
  },
  {
   "cell_type": "code",
   "execution_count": 18,
   "id": "61987df4",
   "metadata": {},
   "outputs": [
    {
     "name": "stdout",
     "output_type": "stream",
     "text": [
      "{6: 36, 8: 64, 9: 81}\n"
     ]
    }
   ],
   "source": [
    "list_a = [6, 4, 8, 3, 2, 9, 1, 0]\n",
    "+\n",
    "res = {i:i**2 for i in list_a if i>5}\n",
    "print(res)"
   ]
  },
  {
   "cell_type": "code",
   "execution_count": null,
   "id": "43223d8e",
   "metadata": {},
   "outputs": [],
   "source": []
  }
 ],
 "metadata": {
  "kernelspec": {
   "display_name": "Python 3 (ipykernel)",
   "language": "python",
   "name": "python3"
  },
  "language_info": {
   "codemirror_mode": {
    "name": "ipython",
    "version": 3
   },
   "file_extension": ".py",
   "mimetype": "text/x-python",
   "name": "python",
   "nbconvert_exporter": "python",
   "pygments_lexer": "ipython3",
   "version": "3.9.13"
  }
 },
 "nbformat": 4,
 "nbformat_minor": 5
}
